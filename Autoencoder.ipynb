{
  "nbformat": 4,
  "nbformat_minor": 0,
  "metadata": {
    "colab": {
      "provenance": [],
      "authorship_tag": "ABX9TyOGQQYDQwj+P9/3Sqo/kIhj",
      "include_colab_link": true
    },
    "kernelspec": {
      "name": "python3",
      "display_name": "Python 3"
    },
    "language_info": {
      "name": "python"
    }
  },
  "cells": [
    {
      "cell_type": "markdown",
      "metadata": {
        "id": "view-in-github",
        "colab_type": "text"
      },
      "source": [
        "<a href=\"https://colab.research.google.com/github/lucash-h/MNIST_Autoencoder/blob/main/Autoencoder.ipynb\" target=\"_parent\"><img src=\"https://colab.research.google.com/assets/colab-badge.svg\" alt=\"Open In Colab\"/></a>"
      ]
    },
    {
      "cell_type": "code",
      "execution_count": 357,
      "metadata": {
        "id": "l0yz-qfd0jaH"
      },
      "outputs": [],
      "source": [
        "import matplotlib.pyplot as plt\n",
        "import numpy as np\n",
        "import pandas as pd\n",
        "import tensorflow as tf\n",
        "from tensorflow.keras.layers import Dense, Input, Reshape, Flatten\n",
        "from tensorflow.keras import layers, Model, losses\n",
        "from tensorflow.keras.models import Sequential\n",
        "\n",
        "from tqdm import tqdm"
      ]
    },
    {
      "cell_type": "code",
      "source": [
        "batch_size = 32\n",
        "learning_rate = 0.001\n",
        "epochs = 10\n",
        "first_dim = 112\n",
        "latent_dim = 64\n",
        "shape = (28, 28, 1)"
      ],
      "metadata": {
        "id": "vF32nUIKbeWz"
      },
      "execution_count": 358,
      "outputs": []
    },
    {
      "cell_type": "code",
      "source": [
        "(x_train, _), (x_test, _) = tf.keras.datasets.mnist.load_data()\n",
        "\n",
        "x_train = x_train / 255.0\n",
        "x_test = x_test / 255.0\n",
        "\n",
        "print (x_train.shape)\n",
        "print (x_test.shape)"
      ],
      "metadata": {
        "colab": {
          "base_uri": "https://localhost:8080/"
        },
        "id": "GmX7SEV50r-x",
        "outputId": "74f3d812-7bb0-4318-9879-789822757ba4"
      },
      "execution_count": 359,
      "outputs": [
        {
          "output_type": "stream",
          "name": "stdout",
          "text": [
            "(60000, 28, 28)\n",
            "(10000, 28, 28)\n"
          ]
        }
      ]
    },
    {
      "cell_type": "code",
      "source": [
        "x_train = tf.reshape(x_train,(-1,batch_size,28,28,1))\n",
        "print(x_train.shape)"
      ],
      "metadata": {
        "colab": {
          "base_uri": "https://localhost:8080/"
        },
        "id": "li9mKSVIVjRp",
        "outputId": "2c40c9bb-5efc-47f8-946a-4586829710d4"
      },
      "execution_count": 360,
      "outputs": [
        {
          "output_type": "stream",
          "name": "stdout",
          "text": [
            "(1875, 32, 28, 28, 1)\n"
          ]
        }
      ]
    },
    {
      "cell_type": "markdown",
      "source": [
        "x = Conv2D(f, (3, 3), strides=2, padding=\"same\")(x)\n",
        "x = LeakyReLU(alpha=0.2)(x)\n",
        "x = BatchNormalization(axis=chanDim)(x)"
      ],
      "metadata": {
        "id": "F-g7DiYqPoV9"
      }
    },
    {
      "cell_type": "code",
      "source": [
        "def build_encoder(shape, first_dim, latent_dim):\n",
        "    xin = Input(shape)\n",
        "    xout = Flatten()(xin)\n",
        "    xout = Dense(first_dim, activation='linear')(xout)\n",
        "    xout = Dense(latent_dim, activation='relu')(xout)\n",
        "    return Model(xin, xout)"
      ],
      "metadata": {
        "id": "DMeGvjR10xmf"
      },
      "execution_count": 361,
      "outputs": []
    },
    {
      "cell_type": "code",
      "source": [
        "def build_decoder(latent_dim, shape):\n",
        "    xin = Input(shape=(latent_dim,))\n",
        "    xout = Dense(tf.math.reduce_prod(shape), activation='sigmoid')(xin)\n",
        "    xout = Reshape(shape)(xout)\n",
        "    return Model(xin, xout)"
      ],
      "metadata": {
        "id": "xhaQGV4s0y1O"
      },
      "execution_count": 362,
      "outputs": []
    },
    {
      "cell_type": "code",
      "source": [
        "encoder = build_encoder(shape, first_dim, latent_dim)\n",
        "encoder.summary()"
      ],
      "metadata": {
        "colab": {
          "base_uri": "https://localhost:8080/"
        },
        "id": "O0KbIc6v1uSz",
        "outputId": "0a2e4bb3-26d7-4f74-fa6d-a79595a84674"
      },
      "execution_count": 363,
      "outputs": [
        {
          "output_type": "stream",
          "name": "stdout",
          "text": [
            "Model: \"model_41\"\n",
            "_________________________________________________________________\n",
            " Layer (type)                Output Shape              Param #   \n",
            "=================================================================\n",
            " input_39 (InputLayer)       [(None, 28, 28, 1)]       0         \n",
            "                                                                 \n",
            " flatten_18 (Flatten)        (None, 784)               0         \n",
            "                                                                 \n",
            " dense_63 (Dense)            (None, 112)               87920     \n",
            "                                                                 \n",
            " dense_64 (Dense)            (None, 64)                7232      \n",
            "                                                                 \n",
            "=================================================================\n",
            "Total params: 95152 (371.69 KB)\n",
            "Trainable params: 95152 (371.69 KB)\n",
            "Non-trainable params: 0 (0.00 Byte)\n",
            "_________________________________________________________________\n"
          ]
        }
      ]
    },
    {
      "cell_type": "code",
      "source": [
        "decoder = build_decoder(latent_dim, shape)\n",
        "decoder.summary()"
      ],
      "metadata": {
        "colab": {
          "base_uri": "https://localhost:8080/"
        },
        "id": "fDm5EVKvQuGC",
        "outputId": "2d2e8c58-d9d8-498e-eae9-03830338be80"
      },
      "execution_count": 364,
      "outputs": [
        {
          "output_type": "stream",
          "name": "stdout",
          "text": [
            "Model: \"model_42\"\n",
            "_________________________________________________________________\n",
            " Layer (type)                Output Shape              Param #   \n",
            "=================================================================\n",
            " input_40 (InputLayer)       [(None, 64)]              0         \n",
            "                                                                 \n",
            " dense_65 (Dense)            (None, 784)               50960     \n",
            "                                                                 \n",
            " reshape_18 (Reshape)        (None, 28, 28, 1)         0         \n",
            "                                                                 \n",
            "=================================================================\n",
            "Total params: 50960 (199.06 KB)\n",
            "Trainable params: 50960 (199.06 KB)\n",
            "Non-trainable params: 0 (0.00 Byte)\n",
            "_________________________________________________________________\n"
          ]
        }
      ]
    },
    {
      "cell_type": "code",
      "source": [
        "def build_autoencoder(encoder_model, decoder_model):\n",
        "\n",
        "    encoder_input = encoder_model.input\n",
        "    decoder_output = decoder_model(encoder_model.output)\n",
        "\n",
        "    return Model(inputs=encoder_input, outputs=decoder_output)"
      ],
      "metadata": {
        "id": "BRUEoz3RsplB"
      },
      "execution_count": 365,
      "outputs": []
    },
    {
      "cell_type": "code",
      "source": [
        "autoencoder = build_autoencoder(encoder, decoder)\n",
        "autoencoder.compile(optimizer='adam', loss=losses.MeanSquaredError()) # maybe change? good results with mean squared"
      ],
      "metadata": {
        "id": "lzl-IUb8SCY8"
      },
      "execution_count": 366,
      "outputs": []
    },
    {
      "cell_type": "code",
      "source": [
        "ms_err = tf.keras.losses.MeanSquaredError()\n",
        "optimizer = tf.keras.optimizers.Adam(learning_rate=learning_rate)"
      ],
      "metadata": {
        "id": "Ug2a1w2iU7lH"
      },
      "execution_count": 367,
      "outputs": []
    },
    {
      "cell_type": "code",
      "source": [
        "loss_log = {'loss':[]}"
      ],
      "metadata": {
        "id": "tYebf_vHb2Vs"
      },
      "execution_count": 368,
      "outputs": []
    },
    {
      "cell_type": "code",
      "source": [
        "def train_step(sample):\n",
        "  with tf.GradientTape() as tape:\n",
        "\n",
        "    reconstructed_images = autoencoder(sample)\n",
        "\n",
        "    autoencoder_loss = ms_err(sample, reconstructed_images)\n",
        "\n",
        "    loss_log['loss'].append(autoencoder_loss)\n",
        "\n",
        "  gradient = tape.gradient(autoencoder_loss, autoencoder.trainable_variables)\n",
        "  optimizer.apply_gradients(zip(gradient,autoencoder.trainable_variables))\n",
        "  return loss_log"
      ],
      "metadata": {
        "id": "pk6-AWnnTvBd"
      },
      "execution_count": 369,
      "outputs": []
    },
    {
      "cell_type": "code",
      "source": [
        "#choose a random batch of 32\n",
        "rand_index = np.random.randint(0,1875)\n",
        "sample = x_train[rand_index]\n",
        "\n",
        "print(sample.shape)"
      ],
      "metadata": {
        "colab": {
          "base_uri": "https://localhost:8080/"
        },
        "id": "JsUNk1c1yPrO",
        "outputId": "4306d709-d706-4635-8d83-3384f53ed749"
      },
      "execution_count": 370,
      "outputs": [
        {
          "output_type": "stream",
          "name": "stdout",
          "text": [
            "(32, 28, 28, 1)\n"
          ]
        }
      ]
    },
    {
      "cell_type": "code",
      "source": [
        "#Train\n",
        "for epoch in range(epochs):\n",
        "  for batch in tqdm(sample):\n",
        "    batch_loss = train_step(sample)"
      ],
      "metadata": {
        "colab": {
          "base_uri": "https://localhost:8080/"
        },
        "id": "mM7k2QeHW_VH",
        "outputId": "e6a96957-914d-450b-a1c7-be46d5809b9d"
      },
      "execution_count": 371,
      "outputs": [
        {
          "output_type": "stream",
          "name": "stderr",
          "text": [
            "100%|██████████| 32/32 [00:01<00:00, 25.05it/s]\n",
            "100%|██████████| 32/32 [00:01<00:00, 24.55it/s]\n",
            "100%|██████████| 32/32 [00:01<00:00, 28.96it/s]\n",
            "100%|██████████| 32/32 [00:00<00:00, 33.75it/s]\n",
            "100%|██████████| 32/32 [00:00<00:00, 34.78it/s]\n",
            "100%|██████████| 32/32 [00:00<00:00, 34.43it/s]\n",
            "100%|██████████| 32/32 [00:00<00:00, 33.97it/s]\n",
            "100%|██████████| 32/32 [00:00<00:00, 34.08it/s]\n",
            "100%|██████████| 32/32 [00:00<00:00, 33.67it/s]\n",
            "100%|██████████| 32/32 [00:00<00:00, 34.15it/s]\n"
          ]
        }
      ]
    },
    {
      "cell_type": "code",
      "source": [
        "def show_images(num_images, images, title):\n",
        "    num_cols = num_images\n",
        "\n",
        "    fig, axes = plt.subplots(nrows=2, ncols=num_cols, figsize=(12, 6))\n",
        "    plt.title(title)\n",
        "\n",
        "    for i in range(num_images):\n",
        "        axes[0, i].imshow(images[i][:, :, 0], cmap='gray')\n"
      ],
      "metadata": {
        "id": "yLM_kFSjwTMw"
      },
      "execution_count": 372,
      "outputs": []
    },
    {
      "cell_type": "code",
      "source": [
        "def plot_img(n, real_img, real_img_label, fake_img, fake_img_title):\n",
        "  plt.figure(figsize=(20, 4))\n",
        "  for i in range(n):\n",
        "    # display original\n",
        "    ax = plt.subplot(2, n, i + 1)\n",
        "    plt.imshow(real_img[i+n * 2])\n",
        "    plt.title(real_img_label)\n",
        "    plt.gray()\n",
        "    ax.get_xaxis().set_visible(False)\n",
        "    ax.get_yaxis().set_visible(False)\n",
        "\n",
        "    # display reconstruction\n",
        "    ax = plt.subplot(2, n, i + 1 + n)\n",
        "    plt.imshow(fake_img[i+n * 2])\n",
        "    plt.title(fake_img_title)\n",
        "    plt.gray()\n",
        "    ax.get_xaxis().set_visible(False)\n",
        "    ax.get_yaxis().set_visible(False)\n",
        "  plt.show()"
      ],
      "metadata": {
        "id": "S3ks-Fxc1M0W"
      },
      "execution_count": 373,
      "outputs": []
    },
    {
      "cell_type": "code",
      "source": [
        "# Plot the first 5 images from x_train\n",
        "reconstructed_images = autoencoder.predict(sample)\n",
        "\n",
        "plot_img(5, sample, \"sample images\", reconstructed_images, \"reconstructed_images\")\n"
      ],
      "metadata": {
        "colab": {
          "base_uri": "https://localhost:8080/",
          "height": 263
        },
        "id": "tbN-n3NKynLk",
        "outputId": "8e281755-1839-4b4d-dc22-15ebd533b728"
      },
      "execution_count": 374,
      "outputs": [
        {
          "output_type": "stream",
          "name": "stdout",
          "text": [
            "1/1 [==============================] - 0s 64ms/step\n"
          ]
        },
        {
          "output_type": "display_data",
          "data": {
            "text/plain": [
              "<Figure size 2000x400 with 10 Axes>"
            ],
            "image/png": "[encoded data removed]"
          },
          "metadata": {}
        }
      ]
    }
  ]
}